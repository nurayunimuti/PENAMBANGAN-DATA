{
  "nbformat": 4,
  "nbformat_minor": 0,
  "metadata": {
    "colab": {
      "provenance": [],
      "include_colab_link": true
    },
    "kernelspec": {
      "name": "python3",
      "display_name": "Python 3"
    },
    "language_info": {
      "name": "python"
    }
  },
  "cells": [
    {
      "cell_type": "markdown",
      "metadata": {
        "id": "view-in-github",
        "colab_type": "text"
      },
      "source": [
        "<a href=\"https://colab.research.google.com/github/Indramawanciputra28/Data-Mining/blob/main/Preprocessing_Data.ipynb\" target=\"_parent\"><img src=\"https://colab.research.google.com/assets/colab-badge.svg\" alt=\"Open In Colab\"/></a>"
      ]
    },
    {
      "cell_type": "code",
      "execution_count": 36,
      "metadata": {
        "id": "ruhIOz6-JYEY"
      },
      "outputs": [],
      "source": [
        "import numpy as np\n",
        "import matplotlib.pyplot as plt\n",
        "import pandas as pd"
      ]
    },
    {
      "cell_type": "markdown",
      "source": [
        "Numpy merupakan library python digunakan untuk komputasi matriks.\n",
        "Matplotlib merupakan library python untuk presentasi data berupa grafik atau plot. ..."
      ],
      "metadata": {
        "id": "A1Oy_dcSgsqY"
      }
    },
    {
      "cell_type": "code",
      "source": [
        "dataset = pd.read_csv('Datakaryawan.csv')\n",
        "x = dataset.iloc[:, :-1].values\n",
        "y = dataset.iloc[:, -1].values"
      ],
      "metadata": {
        "id": "FmkQWp06KRom"
      },
      "execution_count": 37,
      "outputs": []
    },
    {
      "cell_type": "code",
      "source": [
        "print(x)"
      ],
      "metadata": {
        "colab": {
          "base_uri": "https://localhost:8080/"
        },
        "id": "j9nDVJkxKblR",
        "outputId": "e0a013a7-9b05-4391-f8a6-f673fa16578b"
      },
      "execution_count": 38,
      "outputs": [
        {
          "output_type": "stream",
          "name": "stdout",
          "text": [
            "[['Andi' 30.0 7000000.0 'Manager']\n",
            " ['Budi' nan 4500000.0 'Staff']\n",
            " ['Citra' 28.0 nan 'Supervisor']\n",
            " ['Dedi' 35.0 8500000.0 'Manager']\n",
            " ['Evi' 22.0 4000000.0 nan]\n",
            " ['Fajar' nan 9500000.0 'Direktur']\n",
            " ['Gina' 33.0 7000000.0 'Supervisor']\n",
            " ['Hana' 29.0 nan 'Staff']\n",
            " ['Ilham' 38.0 8500000.0 'Manager']\n",
            " ['Joko' 45.0 10000000.0 nan]\n",
            " ['Kiki' 27.0 4800000.0 'Staff']\n",
            " ['Lia' nan 5200000.0 'Supervisor']\n",
            " ['Maman' 32.0 6200000.0 'Supervisor']\n",
            " ['Nia' 24.0 4700000.0 nan]\n",
            " ['Oki' 41.0 nan 'Direktur']]\n"
          ]
        }
      ]
    },
    {
      "cell_type": "code",
      "source": [
        "print(y)"
      ],
      "metadata": {
        "colab": {
          "base_uri": "https://localhost:8080/"
        },
        "id": "5eREOzC8KjWJ",
        "outputId": "9caba841-39b3-4293-e23b-b0a1162d5a87"
      },
      "execution_count": 39,
      "outputs": [
        {
          "output_type": "stream",
          "name": "stdout",
          "text": [
            "['Ya' 'Tidak' 'Ya' 'Ya' 'Tidak' 'Ya' nan 'Tidak' 'Ya' 'Ya' 'Ya' 'Ya'\n",
            " 'Tidak' 'Ya' 'Tidak']\n"
          ]
        }
      ]
    },
    {
      "cell_type": "code",
      "source": [
        "from sklearn.impute import SimpleImputer\n",
        "imputer = SimpleImputer(missing_values=np.nan, strategy='mean')\n",
        "imputer.fit(x[:, 1:3])\n",
        "x[:, 1:3] = imputer.transform(x[:, 1:3])"
      ],
      "metadata": {
        "id": "CpjdonMeKosz"
      },
      "execution_count": 40,
      "outputs": []
    },
    {
      "cell_type": "code",
      "source": [
        "print(x)"
      ],
      "metadata": {
        "colab": {
          "base_uri": "https://localhost:8080/"
        },
        "id": "S5z45D4HLBsd",
        "outputId": "4977aea0-75f6-4c2f-802d-29a6c7eedeb0"
      },
      "execution_count": 41,
      "outputs": [
        {
          "output_type": "stream",
          "name": "stdout",
          "text": [
            "[['Andi' 30.0 7000000.0 'Manager']\n",
            " ['Budi' 32.0 4500000.0 'Staff']\n",
            " ['Citra' 28.0 6658333.333333333 'Supervisor']\n",
            " ['Dedi' 35.0 8500000.0 'Manager']\n",
            " ['Evi' 22.0 4000000.0 nan]\n",
            " ['Fajar' 32.0 9500000.0 'Direktur']\n",
            " ['Gina' 33.0 7000000.0 'Supervisor']\n",
            " ['Hana' 29.0 6658333.333333333 'Staff']\n",
            " ['Ilham' 38.0 8500000.0 'Manager']\n",
            " ['Joko' 45.0 10000000.0 nan]\n",
            " ['Kiki' 27.0 4800000.0 'Staff']\n",
            " ['Lia' 32.0 5200000.0 'Supervisor']\n",
            " ['Maman' 32.0 6200000.0 'Supervisor']\n",
            " ['Nia' 24.0 4700000.0 nan]\n",
            " ['Oki' 41.0 6658333.333333333 'Direktur']]\n"
          ]
        }
      ]
    },
    {
      "cell_type": "markdown",
      "source": [],
      "metadata": {
        "id": "ITzDvDM_nZ8K"
      }
    },
    {
      "source": [
        "from sklearn.compose import ColumnTransformer\n",
        "from sklearn.preprocessing import OneHotEncoder, StandardScaler # Importing StandardScaler\n",
        "import numpy as np # Importing numpy for array operations\n",
        "from sklearn.pipeline import Pipeline # Importing the Pipeline class\n",
        "\n",
        "# Assuming 'x' is your original data\n",
        "# Define columns for each data type\n",
        "categorical_features = [0]  # Column index for categorical features (e.g., Country)\n",
        "numerical_features = [1, 2] # Column indices for numerical features (e.g., Age, Salary)\n",
        "\n",
        "# Create transformers for each data"
      ],
      "cell_type": "code",
      "metadata": {
        "id": "Hju6zMLclaw9"
      },
      "execution_count": 42,
      "outputs": []
    },
    {
      "cell_type": "code",
      "source": [
        "print(x)"
      ],
      "metadata": {
        "colab": {
          "base_uri": "https://localhost:8080/"
        },
        "id": "W2Z8ujsdLHPe",
        "outputId": "96a0132a-f263-4e5a-fc8f-e3b5afcbb9ea"
      },
      "execution_count": 43,
      "outputs": [
        {
          "output_type": "stream",
          "name": "stdout",
          "text": [
            "[['Andi' 30.0 7000000.0 'Manager']\n",
            " ['Budi' 32.0 4500000.0 'Staff']\n",
            " ['Citra' 28.0 6658333.333333333 'Supervisor']\n",
            " ['Dedi' 35.0 8500000.0 'Manager']\n",
            " ['Evi' 22.0 4000000.0 nan]\n",
            " ['Fajar' 32.0 9500000.0 'Direktur']\n",
            " ['Gina' 33.0 7000000.0 'Supervisor']\n",
            " ['Hana' 29.0 6658333.333333333 'Staff']\n",
            " ['Ilham' 38.0 8500000.0 'Manager']\n",
            " ['Joko' 45.0 10000000.0 nan]\n",
            " ['Kiki' 27.0 4800000.0 'Staff']\n",
            " ['Lia' 32.0 5200000.0 'Supervisor']\n",
            " ['Maman' 32.0 6200000.0 'Supervisor']\n",
            " ['Nia' 24.0 4700000.0 nan]\n",
            " ['Oki' 41.0 6658333.333333333 'Direktur']]\n"
          ]
        }
      ]
    },
    {
      "cell_type": "code",
      "source": [
        "from sklearn.preprocessing import LabelEncoder\n",
        "le = LabelEncoder()\n",
        "y = le.fit_transform(y)"
      ],
      "metadata": {
        "id": "utavEKPhLN5A"
      },
      "execution_count": 44,
      "outputs": []
    },
    {
      "cell_type": "code",
      "source": [
        "print(y)"
      ],
      "metadata": {
        "colab": {
          "base_uri": "https://localhost:8080/"
        },
        "id": "FOgtrT0pLOyP",
        "outputId": "772723f6-aa59-40c8-8dac-c1a39414065f"
      },
      "execution_count": 45,
      "outputs": [
        {
          "output_type": "stream",
          "name": "stdout",
          "text": [
            "[1 0 1 1 0 1 2 0 1 1 1 1 0 1 0]\n"
          ]
        }
      ]
    },
    {
      "cell_type": "code",
      "source": [
        "from sklearn.model_selection import train_test_split\n",
        "x_train, x_test, y_train, y_test = train_test_split(x, y, test_size=0.2, random_state=1)"
      ],
      "metadata": {
        "id": "4dKFK929LeHl"
      },
      "execution_count": 46,
      "outputs": []
    },
    {
      "cell_type": "code",
      "source": [
        "print(x_train)"
      ],
      "metadata": {
        "colab": {
          "base_uri": "https://localhost:8080/"
        },
        "id": "_TJuILjJLewp",
        "outputId": "19057df3-861b-4ca1-dbef-9e5884dc2e0e"
      },
      "execution_count": 47,
      "outputs": [
        {
          "output_type": "stream",
          "name": "stdout",
          "text": [
            "[['Citra' 28.0 6658333.333333333 'Supervisor']\n",
            " ['Kiki' 27.0 4800000.0 'Staff']\n",
            " ['Evi' 22.0 4000000.0 nan]\n",
            " ['Budi' 32.0 4500000.0 'Staff']\n",
            " ['Nia' 24.0 4700000.0 nan]\n",
            " ['Andi' 30.0 7000000.0 'Manager']\n",
            " ['Oki' 41.0 6658333.333333333 'Direktur']\n",
            " ['Joko' 45.0 10000000.0 nan]\n",
            " ['Ilham' 38.0 8500000.0 'Manager']\n",
            " ['Maman' 32.0 6200000.0 'Supervisor']\n",
            " ['Lia' 32.0 5200000.0 'Supervisor']\n",
            " ['Fajar' 32.0 9500000.0 'Direktur']]\n"
          ]
        }
      ]
    },
    {
      "cell_type": "code",
      "source": [
        "print(x_test)"
      ],
      "metadata": {
        "colab": {
          "base_uri": "https://localhost:8080/"
        },
        "id": "HfqWcA53qTJm",
        "outputId": "7e40bc84-2d86-4e67-c8ba-136c8b037a78"
      },
      "execution_count": 48,
      "outputs": [
        {
          "output_type": "stream",
          "name": "stdout",
          "text": [
            "[['Dedi' 35.0 8500000.0 'Manager']\n",
            " ['Hana' 29.0 6658333.333333333 'Staff']\n",
            " ['Gina' 33.0 7000000.0 'Supervisor']]\n"
          ]
        }
      ]
    },
    {
      "cell_type": "code",
      "source": [
        "print(y_train)"
      ],
      "metadata": {
        "colab": {
          "base_uri": "https://localhost:8080/"
        },
        "id": "s4atA8F1qaCG",
        "outputId": "b9bda17e-861f-4ed7-9db9-d89cf81a07bd"
      },
      "execution_count": 49,
      "outputs": [
        {
          "output_type": "stream",
          "name": "stdout",
          "text": [
            "[1 1 0 0 1 1 0 1 1 0 1 1]\n"
          ]
        }
      ]
    },
    {
      "cell_type": "code",
      "source": [
        "print(y_test)"
      ],
      "metadata": {
        "colab": {
          "base_uri": "https://localhost:8080/"
        },
        "id": "TZbqsq4Aqd7P",
        "outputId": "3477c03c-aa99-49d8-eae6-9b7979dc0615"
      },
      "execution_count": 50,
      "outputs": [
        {
          "output_type": "stream",
          "name": "stdout",
          "text": [
            "[1 0 2]\n"
          ]
        }
      ]
    },
    {
      "source": [
        "!pip install pandas scikit-learn\n",
        "import pandas as pd\n",
        "from sklearn.preprocessing import StandardScaler, OneHotEncoder\n",
        "from sklearn.compose import ColumnTransformer\n",
        "\n",
        "# Assuming x_train is a NumPy array, convert it to a pandas DataFrame for easier manipulation\n",
        "x_train_df = pd.DataFrame(x_train)\n",
        "\n",
        "# Assuming the column at index 3 contains the string values (like 'Supervisor')\n",
        "categorical_features = [3]  # Replace 3 with the actual index of the categorical column\n",
        "\n",
        "# Create a ColumnTransformer to apply OneHotEncoder to the categorical column and StandardScaler to the rest\n",
        "preprocessor = ColumnTransformer(\n",
        "    transformers=[\n",
        "        ('num', StandardScaler(), [i for i in range(x_train_df.shape[1])])\n",
        "    ])"
      ],
      "cell_type": "code",
      "metadata": {
        "id": "EyCdEgDxl_wH",
        "outputId": "e88af076-78cd-4a32-9737-2b5b2da7ea83",
        "colab": {
          "base_uri": "https://localhost:8080/"
        }
      },
      "execution_count": 51,
      "outputs": [
        {
          "output_type": "stream",
          "name": "stdout",
          "text": [
            "Requirement already satisfied: pandas in /usr/local/lib/python3.10/dist-packages (2.2.2)\n",
            "Requirement already satisfied: scikit-learn in /usr/local/lib/python3.10/dist-packages (1.5.2)\n",
            "Requirement already satisfied: numpy>=1.22.4 in /usr/local/lib/python3.10/dist-packages (from pandas) (1.26.4)\n",
            "Requirement already satisfied: python-dateutil>=2.8.2 in /usr/local/lib/python3.10/dist-packages (from pandas) (2.8.2)\n",
            "Requirement already satisfied: pytz>=2020.1 in /usr/local/lib/python3.10/dist-packages (from pandas) (2024.2)\n",
            "Requirement already satisfied: tzdata>=2022.7 in /usr/local/lib/python3.10/dist-packages (from pandas) (2024.2)\n",
            "Requirement already satisfied: scipy>=1.6.0 in /usr/local/lib/python3.10/dist-packages (from scikit-learn) (1.13.1)\n",
            "Requirement already satisfied: joblib>=1.2.0 in /usr/local/lib/python3.10/dist-packages (from scikit-learn) (1.4.2)\n",
            "Requirement already satisfied: threadpoolctl>=3.1.0 in /usr/local/lib/python3.10/dist-packages (from scikit-learn) (3.5.0)\n",
            "Requirement already satisfied: six>=1.5 in /usr/local/lib/python3.10/dist-packages (from python-dateutil>=2.8.2->pandas) (1.16.0)\n"
          ]
        }
      ]
    },
    {
      "cell_type": "code",
      "source": [
        "print(x_train)"
      ],
      "metadata": {
        "colab": {
          "base_uri": "https://localhost:8080/"
        },
        "id": "5N0HIA7tqy0N",
        "outputId": "d3dbfec9-622d-4667-ea7d-4c96a3f8cf9d"
      },
      "execution_count": 52,
      "outputs": [
        {
          "output_type": "stream",
          "name": "stdout",
          "text": [
            "[['Citra' 28.0 6658333.333333333 'Supervisor']\n",
            " ['Kiki' 27.0 4800000.0 'Staff']\n",
            " ['Evi' 22.0 4000000.0 nan]\n",
            " ['Budi' 32.0 4500000.0 'Staff']\n",
            " ['Nia' 24.0 4700000.0 nan]\n",
            " ['Andi' 30.0 7000000.0 'Manager']\n",
            " ['Oki' 41.0 6658333.333333333 'Direktur']\n",
            " ['Joko' 45.0 10000000.0 nan]\n",
            " ['Ilham' 38.0 8500000.0 'Manager']\n",
            " ['Maman' 32.0 6200000.0 'Supervisor']\n",
            " ['Lia' 32.0 5200000.0 'Supervisor']\n",
            " ['Fajar' 32.0 9500000.0 'Direktur']]\n"
          ]
        }
      ]
    },
    {
      "cell_type": "code",
      "source": [
        "print(x_test)"
      ],
      "metadata": {
        "colab": {
          "base_uri": "https://localhost:8080/"
        },
        "id": "J9wej29Sq2xg",
        "outputId": "55790550-ea98-40a3-a2d7-1c1463e73a5e"
      },
      "execution_count": 53,
      "outputs": [
        {
          "output_type": "stream",
          "name": "stdout",
          "text": [
            "[['Dedi' 35.0 8500000.0 'Manager']\n",
            " ['Hana' 29.0 6658333.333333333 'Staff']\n",
            " ['Gina' 33.0 7000000.0 'Supervisor']]\n"
          ]
        }
      ]
    }
  ]
}